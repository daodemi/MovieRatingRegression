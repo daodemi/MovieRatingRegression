{
 "cells": [
  {
   "cell_type": "code",
   "execution_count": null,
   "metadata": {},
   "outputs": [],
   "source": [
    "import pandas as pd\n",
    "import numpy as np\n",
    "import statsmodels.api as sm\n",
    "import statsmodels.formula.api as smf\n",
    "import patsy\n",
    "\n",
    "import seaborn as sns\n",
    "import matplotlib.pyplot as plt\n",
    "from sklearn.linear_model import LinearRegression\n",
    "from sklearn.linear_model import RidgeCV\n",
    "\n",
    "%matplotlib inline"
   ]
  },
  {
   "cell_type": "code",
   "execution_count": null,
   "metadata": {},
   "outputs": [],
   "source": [
    "no_ratings = pd.read_csv(\"df_NO_RATINGS.csv\")\n",
    "ratings = pd.read_csv(\"movies_df5.csv\")\n",
    "budget = pd.read_csv(\"budget_df.csv\")\n",
    "\n",
    "no_ratings = no_ratings.drop(['Unnamed: 0'], axis=1)\n",
    "ratings = ratings.rename(index=str, columns = {'Unnamed: 0': 'imdb_id', '0': 'imdb_rating'})\n",
    "budget = budget.rename(index=str, columns = {'Unnamed: 0': 'imdb_id', '0': 'budget'})\n"
   ]
  },
  {
   "cell_type": "code",
   "execution_count": null,
   "metadata": {},
   "outputs": [],
   "source": [
    "movies_df = pd.merge(no_ratings, ratings, on=\"imdb_id\")\n",
    "\n",
    "movies_df = movies_df.dropna()\n",
    "\n",
    "movies_df = pd.merge(movies_df, budget, on=\"imdb_id\")\n",
    "\n",
    "movies_df = movies_df.dropna()"
   ]
  },
  {
   "cell_type": "code",
   "execution_count": null,
   "metadata": {},
   "outputs": [],
   "source": [
    "movies_df = pd.read_csv(\"movies_df_raw.csv\")\n",
    "movies_df = movies_df.drop(['Unnamed: 0'], axis=1)"
   ]
  },
  {
   "cell_type": "code",
   "execution_count": null,
   "metadata": {},
   "outputs": [],
   "source": [
    "# Create test dataframe to gauge percentage of data lost if we drop NAs.\n",
    "\n",
    "test = movies_df.dropna()\n",
    "\n",
    "(len(movies_df) - len(test)) / len(movies_df)\n",
    "\n",
    "# 3% data lost, ok to drop NAs\n",
    "\n",
    "movies_df = movies_df.dropna()"
   ]
  },
  {
   "cell_type": "code",
   "execution_count": null,
   "metadata": {},
   "outputs": [],
   "source": [
    "# Remove symbols in budget column\n",
    "movies_df['budget'] = movies_df['budget'].str.replace(',', '')\n",
    "movies_df['budget'] = movies_df['budget'].str.replace('$', '')\n",
    "movies_df['budget'] = movies_df['budget'].str.replace(\"'\", '')\n",
    "movies_df['budget'] = movies_df['budget'].str.replace(']', '')\n",
    "movies_df['budget'] = movies_df['budget'].str.replace('[', '')\n",
    "movies_df['budget'] = movies_df['budget'].str.replace(']', '');"
   ]
  },
  {
   "cell_type": "code",
   "execution_count": null,
   "metadata": {},
   "outputs": [],
   "source": [
    "# Remove foreign film by looking for foreign currency in budget\n",
    "movies_df = movies_df[movies_df['budget'] != '€4000000']\n",
    "movies_df = movies_df[movies_df['budget'] != 'रू2500000000']\n",
    "movies_df = movies_df[movies_df['budget'] != 'रू700000000']\n",
    "movies_df = movies_df[movies_df['budget'] != 'TRL2000000']\n",
    "movies_df = movies_df[movies_df['budget'] != '￦10000000000']\n",
    "movies_df = movies_df[movies_df['budget'] != '¥370000000']\n",
    "movies_df = movies_df[movies_df['budget'] != '€12300000']"
   ]
  },
  {
   "cell_type": "code",
   "execution_count": null,
   "metadata": {},
   "outputs": [],
   "source": [
    "# Convert appropriate columns to int and check type of each column\n",
    "movies_df['runtime'] = pd.Series(movies_df['runtime'], dtype='int64')\n",
    "movies_df['num_productionmanagers'] = pd.Series(movies_df['num_productionmanagers'], dtype='int64')\n",
    "movies_df['num_stunts'] = pd.Series(movies_df['num_stunts'], dtype='int64')\n",
    "movies_df['budget'] = pd.Series(movies_df['budget'], dtype='int64')\n",
    "#movies_df['imdb_rating'] = pd.to_numeric(movies_df['imdb_rating'])"
   ]
  },
  {
   "cell_type": "code",
   "execution_count": null,
   "metadata": {},
   "outputs": [],
   "source": [
    "# Convert release date to datetime and create release month column\n",
    "movies_df['release_date'] = pd.to_datetime(movies_df['release_date'])\n",
    "movies_df['release_month'] = movies_df['release_date'].dt.month"
   ]
  },
  {
   "cell_type": "code",
   "execution_count": null,
   "metadata": {},
   "outputs": [],
   "source": [
    "# Convert genre into list\n",
    "movies_df['genre'] = movies_df['genre'].str.replace('\"', '')\n",
    "movies_df['genre'] = movies_df['genre'].str.replace('[', '')\n",
    "movies_df['genre'] = movies_df['genre'].str.replace(']', '')\n",
    "movies_df['genre'] = movies_df['genre'].str.split(',')"
   ]
  },
  {
   "cell_type": "code",
   "execution_count": null,
   "metadata": {},
   "outputs": [],
   "source": [
    "# Remove first idex because it has over 6000 genre's (scraping error)\n",
    "movies_df = movies_df.iloc[1:]"
   ]
  },
  {
   "cell_type": "code",
   "execution_count": null,
   "metadata": {},
   "outputs": [],
   "source": [
    "# Finding number of genres to gauge how many dummy variables should be made by get_dummies\n",
    "\n",
    "genre = movies_df['genre']\n",
    "\n",
    "from itertools import chain\n",
    "\n",
    "genre_list = list(chain.from_iterable(genres))\n",
    "\n",
    "g = []\n",
    "\n",
    "for genre in genre_list:\n",
    "    genre = genre.replace(\"'\", '')\n",
    "    genre = genre.strip()\n",
    "    g.append(genre)\n",
    "    \n",
    "print(set(g))\n",
    "\n",
    "len(set(g))"
   ]
  },
  {
   "cell_type": "code",
   "execution_count": null,
   "metadata": {},
   "outputs": [],
   "source": [
    "# Replace genres column with cleaner version\n",
    "clean = []\n",
    "\n",
    "for row in movies_df['genre']:\n",
    "    g = []\n",
    "    for genre in row:\n",
    "        genre = genre.replace(\"'\", '')\n",
    "        genre = genre.strip()\n",
    "        g.append(genre)\n",
    "    clean.append(g)\n",
    "\n",
    "movies_df['genres'] = clean\n",
    "\n",
    "movies_df.drop(['genre'], axis=1)"
   ]
  },
  {
   "cell_type": "code",
   "execution_count": null,
   "metadata": {},
   "outputs": [],
   "source": [
    "# Create dummy variables from genre\n",
    "\n",
    "from sklearn.preprocessing import MultiLabelBinarizer\n",
    "\n",
    "df_test = movies_df\n",
    "\n",
    "s = df_test['genres']\n",
    "\n",
    "mlb = MultiLabelBinarizer()\n",
    "\n",
    "genres_df = pd.DataFrame(mlb.fit_transform(s),columns=mlb.classes_, index=df_test.index)\n",
    "\n",
    "genres_df.shape\n",
    "\n",
    "# Shape of data frame with dummy variables match num of unique genres"
   ]
  },
  {
   "cell_type": "code",
   "execution_count": null,
   "metadata": {},
   "outputs": [],
   "source": [
    "# Append dummy variables to data frame\n",
    "\n",
    "df_test = pd.concat([movies_df, genres_df], axis=1)\n",
    "df_test.to_csv(\"movies_df_clean_w_genre_dummy.csv\")"
   ]
  },
  {
   "cell_type": "markdown",
   "metadata": {},
   "source": [
    "### Cleaning recommendation data"
   ]
  },
  {
   "cell_type": "code",
   "execution_count": null,
   "metadata": {},
   "outputs": [],
   "source": [
    "recs = pd.read_csv(\"recs.csv\")\n",
    "\n",
    "recs.head()\n",
    "recs = recs.rename(index=str, columns={\"Unnamed: 0\": \"imdb_id\", \"0\": \"genre\", \"1\":\"runtime\",\"2\":\"release_date\",\"3\":\"num_cast\",\"4\":\"num_directors\",\"5\":\"num_writers\",\"6\":\"num_producers\",\"7\":\"num_productionmanagers\",\"8\":\"num_stunts\",\"9\":\"num_productioncompanies\", \"10\":\"num_distributors\",\"11\":\"budget\"})"
   ]
  },
  {
   "cell_type": "code",
   "execution_count": null,
   "metadata": {},
   "outputs": [],
   "source": [
    "recs['runtime'] = pd.Series(recs['runtime'], dtype='int64')\n",
    "recs['num_productionmanagers'] = pd.Series(recs['num_productionmanagers'], dtype='int64')\n",
    "recs['num_stunts'] = pd.Series(recs['num_stunts'], dtype='int64')\n",
    "recs['budget'] = pd.Series(recs['budget'], dtype='int64')\n",
    "recs['release_date'] = pd.to_datetime(recs['release_date'])\n",
    "recs['release_month'] = recs['release_date'].dt.month"
   ]
  },
  {
   "cell_type": "code",
   "execution_count": null,
   "metadata": {},
   "outputs": [],
   "source": [
    "recs['genre'] = recs['genre'].str.replace('\"', '')\n",
    "recs['genre'] = recs['genre'].str.replace('[', '')\n",
    "recs['genre'] = recs['genre'].str.replace(']', '')\n",
    "recs['genre'] = recs['genre'].str.split(',')"
   ]
  },
  {
   "cell_type": "code",
   "execution_count": null,
   "metadata": {},
   "outputs": [],
   "source": [
    "clean = []\n",
    "for row in recs['genre']:\n",
    "    g = []\n",
    "    for genre in row:\n",
    "        genre = genre.replace(\"'\", '')\n",
    "        genre = genre.strip()\n",
    "        g.append(genre)\n",
    "    clean.append(g)\n",
    "    \n",
    "recs['genres'] = clean\n",
    "\n",
    "recs.drop(['genre'], axis=1)"
   ]
  },
  {
   "cell_type": "code",
   "execution_count": null,
   "metadata": {},
   "outputs": [],
   "source": [
    "from sklearn.preprocessing import MultiLabelBinarizer\n",
    "df_test = recs\n",
    "s = df_test['genres']\n",
    "mlb = MultiLabelBinarizer()\n",
    "genres_df = pd.DataFrame(mlb.fit_transform(s),columns=mlb.classes_, index=df_test.index)\n",
    "recs = pd.concat([recs, genres_df], axis=1)\n",
    "recs = recs.drop(['imdb_id','genre','genres'], 1)"
   ]
  },
  {
   "cell_type": "code",
   "execution_count": null,
   "metadata": {},
   "outputs": [],
   "source": [
    "selected_columns = list(recs2.columns.values)"
   ]
  },
  {
   "cell_type": "code",
   "execution_count": null,
   "metadata": {},
   "outputs": [],
   "source": [
    "recs = recs.rename(index=str, columns={\"Science Fiction\": \"Science_Fiction\"})"
   ]
  },
  {
   "cell_type": "code",
   "execution_count": null,
   "metadata": {},
   "outputs": [],
   "source": [
    "d = pd.DataFrame('0', index=range(11), columns=['Crime','Family','Fantasy','Horror','Music','Mystery','Romance','Thriller','War','Western'])"
   ]
  },
  {
   "cell_type": "code",
   "execution_count": null,
   "metadata": {},
   "outputs": [],
   "source": [
    "test2 = pd.concat([recs,d],axis=1)"
   ]
  },
  {
   "cell_type": "code",
   "execution_count": null,
   "metadata": {},
   "outputs": [],
   "source": [
    "recs1 = recs.apply(pd.to_numeric)"
   ]
  },
  {
   "cell_type": "code",
   "execution_count": null,
   "metadata": {},
   "outputs": [],
   "source": [
    "recs2 = recs1.fillna(0)\n",
    "\n",
    "recs2 = recs2.drop(['index'],1)\n",
    "\n",
    "recs2.to_csv(\"recs.csv\")"
   ]
  }
 ],
 "metadata": {
  "kernelspec": {
   "display_name": "Python 3",
   "language": "python",
   "name": "python3"
  },
  "language_info": {
   "codemirror_mode": {
    "name": "ipython",
    "version": 3
   },
   "file_extension": ".py",
   "mimetype": "text/x-python",
   "name": "python",
   "nbconvert_exporter": "python",
   "pygments_lexer": "ipython3",
   "version": "3.7.0"
  }
 },
 "nbformat": 4,
 "nbformat_minor": 2
}
